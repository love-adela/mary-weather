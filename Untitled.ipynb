{
 "cells": [
  {
   "cell_type": "code",
   "execution_count": 4,
   "metadata": {},
   "outputs": [],
   "source": [
    "import ssl\n",
    "import urllib.request\n",
    "from bs4 import BeautifulSoup\n",
    "from datetime import datetime\n",
    "import pytz"
   ]
  },
  {
   "cell_type": "code",
   "execution_count": 5,
   "metadata": {},
   "outputs": [],
   "source": [
    "ssl._create_default_https_context = ssl._create_unverified_context"
   ]
  },
  {
   "cell_type": "code",
   "execution_count": 6,
   "metadata": {},
   "outputs": [],
   "source": [
    "class WeatherRepository:\n",
    "    @staticmethod\n",
    "    def get_weather():\n",
    "        url = \"https://weather.naver.com/rgn/townWetr.nhn?naverRgnCd=09230109\"\n",
    "        page = urllib.request.urlopen(url)\n",
    "        weather = BeautifulSoup(page, \"html.parser\")\n",
    "\n",
    "        today = datetime.now(pytz.timezone('Asia/Seoul')).strftime(\"%y년 %m월 %d일\")\n",
    "        text = \"{} 오늘 날씨\\n\".format(today)\n",
    "\n",
    "        for cell in weather.find_all(\"div\", \"cell\", limit=2):\n",
    "            when = cell.find(\"b\").string\n",
    "            temperature = cell.find(\"span\", \"temp\").string\n",
    "            weather = cell.img['alt']\n",
    "            rain = cell.find(\"strong\").string\n",
    "            text += \"{}: {}°C, {}, 강수확률 {}%\\n\".format(when, temperature, weather, rain)\n",
    "\n",
    "        return text"
   ]
  },
  {
   "cell_type": "code",
   "execution_count": 7,
   "metadata": {},
   "outputs": [
    {
     "name": "stdout",
     "output_type": "stream",
     "text": [
      "18년 11월 20일 오늘 날씨\n",
      "오전: -1.0°C, 맑음, 강수확률 0%\n",
      "오후: 12.0°C, 구름많음, 강수확률 30%\n",
      "\n"
     ]
    }
   ],
   "source": [
    "if __name__ == \"__main__\":\n",
    "    w = WeatherRepository()\n",
    "    print(w.get_weather())"
   ]
  },
  {
   "cell_type": "code",
   "execution_count": null,
   "metadata": {},
   "outputs": [],
   "source": []
  }
 ],
 "metadata": {
  "kernelspec": {
   "display_name": "Python 3",
   "language": "python",
   "name": "python3"
  },
  "language_info": {
   "codemirror_mode": {
    "name": "ipython",
    "version": 3
   },
   "file_extension": ".py",
   "mimetype": "text/x-python",
   "name": "python",
   "nbconvert_exporter": "python",
   "pygments_lexer": "ipython3",
   "version": "3.7.0"
  }
 },
 "nbformat": 4,
 "nbformat_minor": 2
}
